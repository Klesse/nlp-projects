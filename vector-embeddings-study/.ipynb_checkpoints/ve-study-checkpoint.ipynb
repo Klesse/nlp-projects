{
 "cells": [
  {
   "cell_type": "markdown",
   "id": "5046f8e7-c460-48d3-9d92-0c9a9e45eaef",
   "metadata": {},
   "source": [
    "# Vector Embeddings\n",
    "\n",
    "- Search\n",
    "- Clustering\n",
    "- Recommendations\n",
    "- Diversity measurement\n",
    "- Classification"
   ]
  },
  {
   "cell_type": "code",
   "execution_count": null,
   "id": "8927fcf5-4473-4c00-ab5f-7722c2cbfe6d",
   "metadata": {},
   "outputs": [],
   "source": [
    "!pip install langchain"
   ]
  },
  {
   "cell_type": "code",
   "execution_count": null,
   "id": "12ada378-847e-449f-8478-caff8a414617",
   "metadata": {},
   "outputs": [],
   "source": [
    "!pip install langchain-openai"
   ]
  },
  {
   "cell_type": "code",
   "execution_count": null,
   "id": "41c03958-8bfb-4203-8d95-c12dffc90a3d",
   "metadata": {},
   "outputs": [],
   "source": [
    "import os\n",
    "\n",
    "with open('key.txt','r') as file:\n",
    "    os.environ[\"OPENAI_API_KEY\"] = str(file.readline()).replace(\"\\n\",\"\")\n"
   ]
  },
  {
   "cell_type": "code",
   "execution_count": null,
   "id": "ea671d94-79d2-401d-a67b-b7a343cd74a5",
   "metadata": {},
   "outputs": [],
   "source": [
    "from langchain_openai import OpenAIEmbeddings"
   ]
  },
  {
   "cell_type": "code",
   "execution_count": null,
   "id": "e23cac8b-e1af-4579-8386-287dac37379e",
   "metadata": {},
   "outputs": [],
   "source": [
    "embeddings_model = OpenAIEmbeddings(model='text-embedding-3-small')"
   ]
  },
  {
   "cell_type": "code",
   "execution_count": null,
   "id": "d0c26970-9cac-497b-9247-245e4703ff8b",
   "metadata": {},
   "outputs": [],
   "source": [
    "embedded_query = embeddings_model.embed_query(\"Pele won which world cups?\")"
   ]
  },
  {
   "cell_type": "code",
   "execution_count": null,
   "id": "4177b988-1654-43d5-9625-b202dc81045c",
   "metadata": {},
   "outputs": [],
   "source": [
    "print(embedded_query)"
   ]
  },
  {
   "cell_type": "code",
   "execution_count": null,
   "id": "506c4c40-f18f-47f6-9efc-870f3221707b",
   "metadata": {},
   "outputs": [],
   "source": [
    "len(embedded_query)"
   ]
  },
  {
   "cell_type": "code",
   "execution_count": null,
   "id": "7512577f-3e0a-4d6c-b052-1e562a662117",
   "metadata": {},
   "outputs": [],
   "source": [
    "embedding_documents = embeddings_model.embed_documents([\"Soccer\"])"
   ]
  },
  {
   "cell_type": "code",
   "execution_count": null,
   "id": "e3a4edf6-9c99-4536-bd46-4ceb69f76ddc",
   "metadata": {},
   "outputs": [],
   "source": [
    "print(embedding_documents[0])"
   ]
  },
  {
   "cell_type": "code",
   "execution_count": 1,
   "id": "bec8fed1-97a5-4556-a99c-ca8920f7e8df",
   "metadata": {},
   "outputs": [],
   "source": [
    "from langchain_community.document_loaders import TextLoader"
   ]
  },
  {
   "cell_type": "code",
   "execution_count": null,
   "id": "d0207edb-2e9b-4937-b7ec-44f419a671d5",
   "metadata": {},
   "outputs": [],
   "source": [
    "loader = TextLoader(\"opeth.txt\")"
   ]
  },
  {
   "cell_type": "code",
   "execution_count": null,
   "id": "f223074c-0d17-4802-b118-f68e806e4822",
   "metadata": {},
   "outputs": [],
   "source": [
    "doc = loader.load()"
   ]
  },
  {
   "cell_type": "code",
   "execution_count": 2,
   "id": "30c202b2-bb9f-4d87-ad3f-354ace6eb0e4",
   "metadata": {},
   "outputs": [],
   "source": [
    "from langchain.text_splitter import RecursiveCharacterTextSplitter"
   ]
  },
  {
   "cell_type": "code",
   "execution_count": 5,
   "id": "a36399f5-db95-466e-bfcf-cb3e66eac9b5",
   "metadata": {},
   "outputs": [],
   "source": [
    "text_splitter = RecursiveCharacterTextSplitter(\n",
    "    chunk_size = 500,\n",
    "    chunk_overlap = 0,\n",
    "    length_function=len,\n",
    ")"
   ]
  },
  {
   "cell_type": "code",
   "execution_count": null,
   "id": "2b5cddcc-9755-4cfa-a424-554b072dddc2",
   "metadata": {},
   "outputs": [],
   "source": [
    "chunks = text_splitter.split_documents(doc)"
   ]
  },
  {
   "cell_type": "code",
   "execution_count": null,
   "id": "ba8f3de6-a069-44af-9d72-a3fe5100a6df",
   "metadata": {},
   "outputs": [],
   "source": [
    "embeddings = embeddings_model.embed_documents(chunks[0].page_content)"
   ]
  },
  {
   "cell_type": "code",
   "execution_count": null,
   "id": "3af7727e-f284-4df9-b66e-fe98dcc9cc15",
   "metadata": {},
   "outputs": [],
   "source": [
    "all_embeddings = []"
   ]
  },
  {
   "cell_type": "code",
   "execution_count": null,
   "id": "fa6f64e4-db01-4f6b-a0a5-a3d181f51de1",
   "metadata": {},
   "outputs": [],
   "source": [
    "for chunk in chunks:\n",
    "    chunk_embeddings = embeddings_model.embed_documents(chunk.page_content)\n",
    "    all_embeddings.append(chunk_embeddings)"
   ]
  }
 ],
 "metadata": {
  "kernelspec": {
   "display_name": "Python 3 (ipykernel)",
   "language": "python",
   "name": "python3"
  },
  "language_info": {
   "codemirror_mode": {
    "name": "ipython",
    "version": 3
   },
   "file_extension": ".py",
   "mimetype": "text/x-python",
   "name": "python",
   "nbconvert_exporter": "python",
   "pygments_lexer": "ipython3",
   "version": "3.10.12"
  }
 },
 "nbformat": 4,
 "nbformat_minor": 5
}
